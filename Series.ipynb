{
 "cells": [
  {
   "cell_type": "code",
   "execution_count": 1,
   "id": "5d3c1378",
   "metadata": {},
   "outputs": [],
   "source": [
    "import pandas as pd\n",
    "import numpy as np\n",
    "from numpy.random import randn\n",
    "np.random.seed(1001212251)"
   ]
  },
  {
   "cell_type": "code",
   "execution_count": 2,
   "id": "ea929d7b",
   "metadata": {},
   "outputs": [],
   "source": [
    "df = pd.DataFrame(randn(5,4),['A','B','C','D','E'],['C1','C2','C3','C4'])"
   ]
  },
  {
   "cell_type": "code",
   "execution_count": 3,
   "id": "a6085f58",
   "metadata": {},
   "outputs": [
    {
     "data": {
      "text/html": [
       "<div>\n",
       "<style scoped>\n",
       "    .dataframe tbody tr th:only-of-type {\n",
       "        vertical-align: middle;\n",
       "    }\n",
       "\n",
       "    .dataframe tbody tr th {\n",
       "        vertical-align: top;\n",
       "    }\n",
       "\n",
       "    .dataframe thead th {\n",
       "        text-align: right;\n",
       "    }\n",
       "</style>\n",
       "<table border=\"1\" class=\"dataframe\">\n",
       "  <thead>\n",
       "    <tr style=\"text-align: right;\">\n",
       "      <th></th>\n",
       "      <th>C1</th>\n",
       "      <th>C2</th>\n",
       "      <th>C3</th>\n",
       "      <th>C4</th>\n",
       "      <th>C_5</th>\n",
       "    </tr>\n",
       "  </thead>\n",
       "  <tbody>\n",
       "    <tr>\n",
       "      <th>A</th>\n",
       "      <td>-0.573750</td>\n",
       "      <td>-1.015220</td>\n",
       "      <td>0.124927</td>\n",
       "      <td>-1.076985</td>\n",
       "      <td>58.0</td>\n",
       "    </tr>\n",
       "    <tr>\n",
       "      <th>B</th>\n",
       "      <td>0.542709</td>\n",
       "      <td>0.436389</td>\n",
       "      <td>0.255928</td>\n",
       "      <td>1.051840</td>\n",
       "      <td>24.0</td>\n",
       "    </tr>\n",
       "    <tr>\n",
       "      <th>C</th>\n",
       "      <td>-1.361894</td>\n",
       "      <td>0.817845</td>\n",
       "      <td>-0.028124</td>\n",
       "      <td>-0.552100</td>\n",
       "      <td>-111.0</td>\n",
       "    </tr>\n",
       "    <tr>\n",
       "      <th>D</th>\n",
       "      <td>0.828564</td>\n",
       "      <td>-0.753592</td>\n",
       "      <td>0.488939</td>\n",
       "      <td>0.752895</td>\n",
       "      <td>-62.0</td>\n",
       "    </tr>\n",
       "    <tr>\n",
       "      <th>E</th>\n",
       "      <td>-0.530740</td>\n",
       "      <td>-0.151992</td>\n",
       "      <td>-1.364311</td>\n",
       "      <td>-0.660837</td>\n",
       "      <td>8.0</td>\n",
       "    </tr>\n",
       "  </tbody>\n",
       "</table>\n",
       "</div>"
      ],
      "text/plain": [
       "         C1        C2        C3        C4    C_5\n",
       "A -0.573750 -1.015220  0.124927 -1.076985   58.0\n",
       "B  0.542709  0.436389  0.255928  1.051840   24.0\n",
       "C -1.361894  0.817845 -0.028124 -0.552100 -111.0\n",
       "D  0.828564 -0.753592  0.488939  0.752895  -62.0\n",
       "E -0.530740 -0.151992 -1.364311 -0.660837    8.0"
      ]
     },
     "execution_count": 3,
     "metadata": {},
     "output_type": "execute_result"
    }
   ],
   "source": [
    "df[['C1', 'C2']]\n",
    "df['C_5'] =round( (df['C1'] * 100 * df['C2']) )\n",
    "df"
   ]
  },
  {
   "cell_type": "code",
   "execution_count": 11,
   "metadata": {},
   "outputs": [
    {
     "data": {
      "text/plain": [
       "A   -101.140146\n",
       "B    -99.819539\n",
       "C    -99.154031\n",
       "D   -101.242531\n",
       "E    -98.787681\n",
       "dtype: float64"
      ]
     },
     "execution_count": 11,
     "metadata": {},
     "output_type": "execute_result"
    }
   ],
   "source": [
    "df['C2'] - df['C3'] - 100"
   ]
  }
 ],
 "metadata": {
  "kernelspec": {
   "display_name": "Python 3",
   "language": "python",
   "name": "python3"
  },
  "language_info": {
   "codemirror_mode": {
    "name": "ipython",
    "version": 3
   },
   "file_extension": ".py",
   "mimetype": "text/x-python",
   "name": "python",
   "nbconvert_exporter": "python",
   "pygments_lexer": "ipython3",
   "version": "3.11.5"
  }
 },
 "nbformat": 4,
 "nbformat_minor": 5
}
